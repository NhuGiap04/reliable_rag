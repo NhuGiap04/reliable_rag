{
 "cells": [
  {
   "cell_type": "markdown",
   "id": "6bdc692b",
   "metadata": {},
   "source": [
    "## Step 1: Preprocessing data"
   ]
  },
  {
   "cell_type": "code",
   "execution_count": 1,
   "id": "54bda486",
   "metadata": {},
   "outputs": [],
   "source": [
    "import pandas as pd\n",
    "import os\n",
    "import re"
   ]
  },
  {
   "cell_type": "markdown",
   "id": "7e9ffa81",
   "metadata": {},
   "source": [
    "**Load Multi-hop Corpus**"
   ]
  },
  {
   "cell_type": "code",
   "execution_count": 12,
   "id": "2683761f",
   "metadata": {},
   "outputs": [],
   "source": [
    "with open('VDT2025_Multihop_RAG/multihoprag_corpus.txt', 'r') as f:\n",
    "    # Read the entire file content\n",
    "    corpus = f.read()\n",
    "\n",
    "# Remove <endofpassage> tags\n",
    "cleaned_corpus = corpus.replace('<endofpassage>', '')\n",
    "\n",
    "# Split by Title\n",
    "entries = re.split(r'Title:', corpus)\n",
    "data = []\n",
    "for entry in entries:\n",
    "    if not entry.strip():\n",
    "        continue\n",
    "    # Split title and passage, keeping 'Passage:' and '<endofpassage>'\n",
    "    title_match = re.match(r'([^\\n]+)\\n(Passage:.*?)(?=Title:|$)', entry, re.DOTALL)\n",
    "    if title_match:\n",
    "        title = title_match.group(1).strip()\n",
    "        passage = title_match.group(2).strip()\n",
    "        data.append([title, passage])\n"
   ]
  },
  {
   "cell_type": "code",
   "execution_count": 13,
   "id": "f15818ab",
   "metadata": {},
   "outputs": [
    {
     "name": "stdout",
     "output_type": "stream",
     "text": [
      "Number of titles: 609\n"
     ]
    },
    {
     "data": {
      "text/html": [
       "<div>\n",
       "<style scoped>\n",
       "    .dataframe tbody tr th:only-of-type {\n",
       "        vertical-align: middle;\n",
       "    }\n",
       "\n",
       "    .dataframe tbody tr th {\n",
       "        vertical-align: top;\n",
       "    }\n",
       "\n",
       "    .dataframe thead th {\n",
       "        text-align: right;\n",
       "    }\n",
       "</style>\n",
       "<table border=\"1\" class=\"dataframe\">\n",
       "  <thead>\n",
       "    <tr style=\"text-align: right;\">\n",
       "      <th></th>\n",
       "      <th>title_name</th>\n",
       "      <th>content</th>\n",
       "    </tr>\n",
       "  </thead>\n",
       "  <tbody>\n",
       "    <tr>\n",
       "      <th>0</th>\n",
       "      <td>200+ of the best deals from Amazon's Cyber Mon...</td>\n",
       "      <td>Table of Contents Table of Contents Echo, Fire...</td>\n",
       "    </tr>\n",
       "    <tr>\n",
       "      <th>1</th>\n",
       "      <td>ASX set to drop as Wall Street’s September slu...</td>\n",
       "      <td>ETF provider Betashares, which manages $30 bil...</td>\n",
       "    </tr>\n",
       "    <tr>\n",
       "      <th>2</th>\n",
       "      <td>Amazon sellers sound off on the FTC's 'long-ov...</td>\n",
       "      <td>A worker sorts out parcels in the outbound doc...</td>\n",
       "    </tr>\n",
       "    <tr>\n",
       "      <th>3</th>\n",
       "      <td>Christmas Day preview: 49ers, Ravens square of...</td>\n",
       "      <td>Christmas Day isn't just for the NBA, as the N...</td>\n",
       "    </tr>\n",
       "    <tr>\n",
       "      <th>4</th>\n",
       "      <td>Raiders vs. Lions live score, updates, highlig...</td>\n",
       "      <td>The Lions just needed to get themselves back i...</td>\n",
       "    </tr>\n",
       "  </tbody>\n",
       "</table>\n",
       "</div>"
      ],
      "text/plain": [
       "                                          title_name  \\\n",
       "0  200+ of the best deals from Amazon's Cyber Mon...   \n",
       "1  ASX set to drop as Wall Street’s September slu...   \n",
       "2  Amazon sellers sound off on the FTC's 'long-ov...   \n",
       "3  Christmas Day preview: 49ers, Ravens square of...   \n",
       "4  Raiders vs. Lions live score, updates, highlig...   \n",
       "\n",
       "                                             content  \n",
       "0  Table of Contents Table of Contents Echo, Fire...  \n",
       "1  ETF provider Betashares, which manages $30 bil...  \n",
       "2  A worker sorts out parcels in the outbound doc...  \n",
       "3  Christmas Day isn't just for the NBA, as the N...  \n",
       "4  The Lions just needed to get themselves back i...  "
      ]
     },
     "execution_count": 13,
     "metadata": {},
     "output_type": "execute_result"
    }
   ],
   "source": [
    "df = pd.DataFrame(data, columns=['title_name', 'content'])\n",
    "def extract_passages(corpus_text):\n",
    "    \"\"\"\n",
    "    Extracts all passages (including 'Passage:' and '<endofpassage>') from the corpus text.\n",
    "    Returns a list of passage strings.\n",
    "    \"\"\"\n",
    "    pattern = r'Passage:(.*?<endofpassage>)'\n",
    "    passages = re.findall(pattern, corpus_text, re.DOTALL)\n",
    "    # Add back the 'Passage:' prefix to each passage\n",
    "    passages = [p.replace('<endofpassage>', '').strip() for p in passages]\n",
    "    combined_passage = \" \".join(passages)\n",
    "    return combined_passage\n",
    "\n",
    "# Apply to the content of the DataFrame\n",
    "df['content'] = df['content'].apply(extract_passages)\n",
    "print(\"Number of titles:\", len(df))\n",
    "df.head()"
   ]
  },
  {
   "cell_type": "markdown",
   "id": "754d3730",
   "metadata": {},
   "source": [
    "**Load Multi-hop RAG**"
   ]
  },
  {
   "cell_type": "code",
   "execution_count": 14,
   "id": "f3c35500",
   "metadata": {},
   "outputs": [
    {
     "name": "stdout",
     "output_type": "stream",
     "text": [
      "Number of samples to query: 2556\n",
      "                                               query              answer  \\\n",
      "0  Who is the individual associated with the cryp...   Sam Bankman-Fried   \n",
      "1  Which individual is implicated in both inflati...        Donald Trump   \n",
      "2  Who is the figure associated with generative A...          Sam Altman   \n",
      "3  Do the TechCrunch article on software companie...                 Yes   \n",
      "4  Which online betting platform provides a welco...  Caesars Sportsbook   \n",
      "\n",
      "                                       evidence_list  \n",
      "0  [{'title': 'The FTX trial is bigger than Sam B...  \n",
      "1  [{'title': 'Donald Trump defrauded banks with ...  \n",
      "2  [{'title': 'OpenAI's ex-chairman accuses board...  \n",
      "3  [{'title': 'Here’s how Rainforest, a budding S...  \n",
      "4  [{'title': '2023 Kentucky online sports bettin...  \n"
     ]
    }
   ],
   "source": [
    "import pandas as pd\n",
    "import json\n",
    "\n",
    "# Load the JSON file\n",
    "with open(\"VDT2025_Multihop_RAG/MultiHopRAG.json\", \"r\") as f:\n",
    "    query_data = json.load(f)\n",
    "\n",
    "# Convert to DataFrame\n",
    "query_df = pd.DataFrame(query_data)\n",
    "query_df = query_df.drop('question_type', axis=1)\n",
    "print(\"Number of samples to query:\", len(query_df))\n",
    "print(query_df.head())"
   ]
  },
  {
   "cell_type": "markdown",
   "id": "06496267",
   "metadata": {},
   "source": [
    "## Step 2: Indexing"
   ]
  },
  {
   "cell_type": "code",
   "execution_count": null,
   "id": "cf4b7103",
   "metadata": {},
   "outputs": [],
   "source": [
    "#### INDEXING ####\n",
    "\n",
    "# Load blog\n",
    "from langchain_community.document_loaders import DataFrameLoader\n",
    "loader = DataFrameLoader(df, page_content_column=\"content\")\n",
    "blog_docs = loader.load()\n",
    "\n",
    "# Split\n",
    "from langchain.text_splitter import RecursiveCharacterTextSplitter\n",
    "text_splitter = RecursiveCharacterTextSplitter.from_tiktoken_encoder(\n",
    "    chunk_size=300, \n",
    "    chunk_overlap=50)\n",
    "\n",
    "# Make splits\n",
    "splits = text_splitter.split_documents(blog_docs)\n",
    "\n",
    "# Index\n",
    "from langchain_openai import OpenAIEmbeddings\n",
    "from langchain_community.vectorstores import Chroma\n",
    "vectorstore = Chroma.from_documents(documents=splits, \n",
    "                                    embedding=OpenAIEmbeddings())"
   ]
  },
  {
   "cell_type": "code",
   "execution_count": 164,
   "id": "cb529d18",
   "metadata": {},
   "outputs": [],
   "source": [
    "retriever = vectorstore.as_retriever(search_kwargs={\"k\": 5})"
   ]
  },
  {
   "cell_type": "markdown",
   "id": "e4458902",
   "metadata": {},
   "source": [
    "## Step 3: Decomposition"
   ]
  },
  {
   "cell_type": "code",
   "execution_count": 212,
   "id": "c2adc190",
   "metadata": {},
   "outputs": [],
   "source": [
    "from langchain.prompts import ChatPromptTemplate\n",
    "\n",
    "# Decomposition\n",
    "template = \"\"\"You are a helpful assistant that generates multiple sub-questions related to an input question. \\n\n",
    "The goal is to break down the input into a set of sub-problems / sub-questions that can be answers in isolation. \\n\n",
    "Generate multiple search queries related to: {question} \\n\n",
    "Output (5 queries):\"\"\"\n",
    "prompt_decomposition = ChatPromptTemplate.from_template(template)"
   ]
  },
  {
   "cell_type": "code",
   "execution_count": 213,
   "id": "d430f27e",
   "metadata": {},
   "outputs": [],
   "source": [
    "from langchain_openai import ChatOpenAI\n",
    "from langchain_core.output_parsers import StrOutputParser\n",
    "\n",
    "# LLM\n",
    "llm = ChatOpenAI(temperature=0)\n",
    "\n",
    "# Chain\n",
    "generate_queries_decomposition = ( prompt_decomposition | llm | StrOutputParser() | (lambda x: x.split(\"\\n\")))"
   ]
  },
  {
   "cell_type": "markdown",
   "id": "ff594564",
   "metadata": {},
   "source": [
    "### Answer individually"
   ]
  },
  {
   "cell_type": "code",
   "execution_count": 280,
   "id": "528bf39e",
   "metadata": {},
   "outputs": [
    {
     "name": "stdout",
     "output_type": "stream",
     "text": [
      "### START EXAMPLE 1 ###\n",
      "Question: Who is the individual associated with the cryptocurrency industry facing a criminal trial\n",
      "on fraud and conspiracy charges, as reported by both The Verge and TechCrunch, and is accused by\n",
      "prosecutors of committing fraud for personal gain?\n",
      "\n",
      "DECOMPOSITION:\n",
      "1. What are the specific fraud and conspiracy charges faced by the individual in the cryptocurrency\n",
      "industry?\n",
      "----------------------------------------\n",
      "2. What evidence do prosecutors have against the individual in the criminal trial for fraud and\n",
      "conspiracy?\n",
      "----------------------------------------\n",
      "3. How has the cryptocurrency industry been impacted by the criminal trial of this individual?\n",
      "----------------------------------------\n",
      "4. What is the background and history of the individual in the cryptocurrency industry prior to\n",
      "facing criminal charges?\n",
      "----------------------------------------\n",
      "5. Are there any updates or developments in the case reported by other news sources besides The\n",
      "Verge and TechCrunch?\n",
      "----------------------------------------\n",
      "Answer: The individual associated with the cryptocurrency industry facing a criminal trial on fraud\n",
      "and conspiracy charges, as reported by both The Verge and TechCrunch, and accused by prosecutors of\n",
      "committing fraud for personal gain is Sam Bankman-Fried. <Sam Bankman-Fried>.\n",
      "### END EXAMPLE 1 ###\n",
      "\n"
     ]
    }
   ],
   "source": [
    "start = 0\n",
    "end = 1\n",
    "pred_responses = []\n",
    "\n",
    "for idx in range(start, end):\n",
    "    # Run\n",
    "    question = query_df['query'][idx]\n",
    "    questions = generate_queries_decomposition.invoke({\"question\":question})\n",
    "    \n",
    "    import textwrap\n",
    "\n",
    "    # For a single long string\n",
    "    print(f\"### START EXAMPLE {idx + 1} ###\")\n",
    "    print(textwrap.fill(f\"Question: {question}\", width=100))\n",
    "    print()\n",
    "    print(\"DECOMPOSITION:\")\n",
    "\n",
    "    # For a list of strings\n",
    "    for q in questions:\n",
    "        print(textwrap.fill(q, width=100))\n",
    "        print(\"-\" * 40)\n",
    "    \n",
    "    # Answer each sub-question individually \n",
    "\n",
    "    from langchain import hub\n",
    "    from langchain_core.prompts import ChatPromptTemplate\n",
    "    from langchain_core.runnables import RunnablePassthrough, RunnableLambda\n",
    "    from langchain_core.output_parsers import StrOutputParser\n",
    "    from langchain_openai import ChatOpenAI\n",
    "\n",
    "    # RAG prompt\n",
    "    prompt_rag = hub.pull(\"rlm/rag-prompt\")\n",
    "\n",
    "    total_retrieved_docs = []\n",
    "    def retrieve_and_rag(question,prompt_rag,sub_question_generator_chain):\n",
    "        \"\"\"RAG on each sub-question\"\"\"\n",
    "        \n",
    "        # Use our decomposition / \n",
    "        sub_questions = sub_question_generator_chain.invoke({\"question\":question})\n",
    "        \n",
    "        # Initialize a list to hold RAG chain results\n",
    "        rag_results = []\n",
    "        \n",
    "        for sub_question in sub_questions:\n",
    "            \n",
    "            # Retrieve documents for each sub-question\n",
    "            retrieved_docs = retriever.invoke(sub_question)\n",
    "            for doc in retrieved_docs:\n",
    "                title = doc.metadata[\"title_name\"]\n",
    "                fact = doc.page_content\n",
    "                doc_content = {'title': title, 'fact': fact}\n",
    "                total_retrieved_docs.append(doc_content)\n",
    "            \n",
    "            # Use retrieved documents and sub-question in RAG chain\n",
    "            answer = (prompt_rag | llm | StrOutputParser()).invoke({\"context\": retrieved_docs, \n",
    "                                                                    \"question\": sub_question})\n",
    "            rag_results.append(answer)\n",
    "        \n",
    "        return rag_results,sub_questions\n",
    "\n",
    "    # Wrap the retrieval and RAG process in a RunnableLambda for integration into a chain\n",
    "    answers, questions = retrieve_and_rag(question, prompt_rag, generate_queries_decomposition)\n",
    "\n",
    "    def format_qa_pairs(questions, answers):\n",
    "        \"\"\"Format Q and A pairs\"\"\"\n",
    "        \n",
    "        formatted_string = \"\"\n",
    "        for i, (question, answer) in enumerate(zip(questions, answers), start=1):\n",
    "            formatted_string += f\"Question {i}: {question}\\nAnswer {i}: {answer}\\n\\n\"\n",
    "        return formatted_string.strip()\n",
    "\n",
    "    context = format_qa_pairs(questions, answers)\n",
    "\n",
    "    # Prompt\n",
    "    template = \"\"\"Here is a set of Q+A pairs:\n",
    "\n",
    "    {context}\n",
    "\n",
    "    Use these to synthesize an answer to the question: {question}\n",
    "    Put the final answer clearly at the end of your response, using the following format: <your_answer>.\n",
    "    For Yes/No question, only respond <Yes> or <No>.\n",
    "    For question which you think not possible to determine the answer, respond: <Insufficient information.>\n",
    "    \"\"\"\n",
    "\n",
    "    prompt = ChatPromptTemplate.from_template(template)\n",
    "\n",
    "    final_rag_chain = (\n",
    "        prompt\n",
    "        | llm\n",
    "        | StrOutputParser()\n",
    "    )\n",
    "\n",
    "    answer = final_rag_chain.invoke({\"context\":context,\"question\":question})\n",
    "    # For a single long string\n",
    "    print(textwrap.fill(f\"Answer: {answer}\", width=100))\n",
    "    print(f\"### END EXAMPLE {idx + 1} ###\")\n",
    "    print()\n",
    "\n",
    "    pred_response = {\n",
    "        \"query\": question,\n",
    "        \"answer\": answer,\n",
    "        \"evidence_list\": total_retrieved_docs\n",
    "    }\n",
    "\n",
    "    pred_responses.append(pred_response)"
   ]
  },
  {
   "cell_type": "markdown",
   "id": "78d4a086",
   "metadata": {},
   "source": [
    "## Step 4: Evaluation"
   ]
  },
  {
   "cell_type": "code",
   "execution_count": 215,
   "id": "86dad6b9",
   "metadata": {},
   "outputs": [],
   "source": [
    "# Function to check if there is an intersection of words between two strings\n",
    "def has_intersection(a, b):\n",
    "    a_words = set(a.split())\n",
    "    b_words = set(b.split())\n",
    "    return len(a_words.intersection(b_words)) > 0\n",
    "\n",
    "# Function to calculate evaluation metrics\n",
    "def calculate_metrics(pred_list, gold_list):\n",
    "    tp = sum(1 for pred, gold in zip(pred_list, gold_list) if has_intersection(pred.lower(), gold.lower()))\n",
    "    fp = sum(1 for pred, gold in zip(pred_list, gold_list) if not has_intersection(pred.lower(), gold.lower()))\n",
    "    fn = len(gold_list) - tp\n",
    "    tn = len(pred_list) - tp \n",
    "\n",
    "    precision = tp / (tp + fp) if tp + fp > 0 else 0\n",
    "    recall = tp / (tp + fn) if tp + fn > 0 else 0\n",
    "    f1 = 2 * (precision * recall) / (precision + recall) if precision + recall > 0 else 0\n",
    "    accuracy = (tp + tn) / (tp + tn + fp + fn) if (tp + tn + fp + fn) > 0 else 0\n",
    "\n",
    "    return precision, recall, f1, accuracy"
   ]
  },
  {
   "cell_type": "code",
   "execution_count": 216,
   "id": "ca6ebf35",
   "metadata": {},
   "outputs": [
    {
     "name": "stdout",
     "output_type": "stream",
     "text": [
      "                                               query  \\\n",
      "0  Who is the individual associated with the cryp...   \n",
      "1  Which individual is implicated in both inflati...   \n",
      "2  Who is the figure associated with generative A...   \n",
      "3  Do the TechCrunch article on software companie...   \n",
      "4  Which online betting platform provides a welco...   \n",
      "\n",
      "                                              answer  \\\n",
      "0  The individual associated with the cryptocurre...   \n",
      "1  The individual implicated in both inflating th...   \n",
      "2  The figure associated with generative AI techn...   \n",
      "3  The TechCrunch article on software companies r...   \n",
      "4  DraftKings Sportsbook is the online betting pl...   \n",
      "\n",
      "                                       evidence_list  \n",
      "0  [{'title': 'The FTX trial is bigger than Sam B...  \n",
      "1  [{'title': 'The $777 million surprise: Donald ...  \n",
      "2  [{'title': 'Amazon’s Tye Brady discusses gener...  \n",
      "3  [{'title': 'Sam Altman backs teens’ startup, G...  \n",
      "4  [{'title': 'Vermont Sportsbook Promos and Spor...  \n"
     ]
    }
   ],
   "source": [
    "responses_df = pd.DataFrame(pred_responses)\n",
    "print(responses_df.head())\n",
    "responses_df.to_json(\"output.json\", orient=\"records\", indent=4, force_ascii=False)"
   ]
  },
  {
   "cell_type": "code",
   "execution_count": 217,
   "id": "9882de16",
   "metadata": {},
   "outputs": [],
   "source": [
    "evaluate_samples = len(responses_df[\"answer\"])\n",
    "pred_list = responses_df[\"answer\"][:evaluate_samples].tolist()\n",
    "gold_list = query_df[\"answer\"][:evaluate_samples].tolist()"
   ]
  },
  {
   "cell_type": "code",
   "execution_count": 218,
   "id": "0ce92bd5",
   "metadata": {},
   "outputs": [],
   "source": [
    "import re\n",
    "\n",
    "def extract_boxed_answer(text):\n",
    "    \"\"\"\n",
    "    Extracts the answer in the format <answer> from a string.\n",
    "    Returns the answer inside the angle brackets, or None if not found.\n",
    "    \"\"\"\n",
    "    match = re.search(r\"<([^<>]+)>\", text)\n",
    "    if match:\n",
    "        return match.group(1).strip()\n",
    "    return text.replace(\".\", \" \")\n",
    "\n",
    "pred_list = [extract_boxed_answer(p) for p in pred_list]"
   ]
  },
  {
   "cell_type": "code",
   "execution_count": 219,
   "id": "2b1d118f",
   "metadata": {},
   "outputs": [
    {
     "name": "stdout",
     "output_type": "stream",
     "text": [
      "The individual associated with the cryptocurrency industry facing a criminal trial on fraud and\n",
      "conspiracy charges, as reported by both The Verge and TechCrunch, and accused by prosecutors of\n",
      "committing fraud for personal gain is Sam Bankman-Fried\n",
      "----------------------------------------\n",
      "Donald Trump\n",
      "----------------------------------------\n",
      "Sam Altman\n",
      "----------------------------------------\n",
      "Yes\n",
      "----------------------------------------\n",
      "DraftKings Sportsbook\n",
      "----------------------------------------\n",
      "Sam Bankman-Fried\n",
      "----------------------------------------\n",
      "Yes\n",
      "----------------------------------------\n",
      "Yes\n",
      "----------------------------------------\n",
      "OpenAI\n",
      "----------------------------------------\n",
      "Google\n",
      "----------------------------------------\n",
      "The character portrayed by Sridevi awarded the Congressional Gold Medal\n",
      "----------------------------------------\n",
      "Yes\n",
      "----------------------------------------\n",
      "Yes\n",
      "----------------------------------------\n",
      "Insufficient information.\n",
      "----------------------------------------\n",
      "No\n",
      "----------------------------------------\n",
      "BEUC\n",
      "----------------------------------------\n",
      "Amazon\n",
      "----------------------------------------\n",
      "No\n",
      "----------------------------------------\n",
      "Insufficient information.\n",
      "----------------------------------------\n",
      "No\n",
      "----------------------------------------\n",
      "Insufficient information.\n",
      "----------------------------------------\n",
      "Yes\n",
      "----------------------------------------\n",
      "Valve\n",
      "----------------------------------------\n",
      "No\n",
      "----------------------------------------\n",
      "Insufficient information.\n",
      "----------------------------------------\n",
      "No\n",
      "----------------------------------------\n",
      "Yes\n",
      "----------------------------------------\n",
      "No\n",
      "----------------------------------------\n",
      "No\n",
      "----------------------------------------\n",
      "Insufficient information.\n",
      "----------------------------------------\n",
      "Google\n",
      "----------------------------------------\n",
      "Yes  Both 'The Verge' and 'Engadget' articles suggest that consumers have guides or opportunities to\n",
      "make better purchasing decisions, while 'TechCrunch' discusses consumers' desire for a new model in\n",
      "a different sector\n",
      "----------------------------------------\n",
      "Sam Altman\n",
      "----------------------------------------\n",
      "Uber\n",
      "----------------------------------------\n",
      "No\n",
      "----------------------------------------\n",
      "Yes\n",
      "----------------------------------------\n",
      "Yes\n",
      "----------------------------------------\n",
      "Yes\n",
      "----------------------------------------\n",
      "S\n",
      "----------------------------------------\n",
      "Y\n",
      "----------------------------------------\n",
      "Yes\n",
      "----------------------------------------\n",
      "Yes\n",
      "----------------------------------------\n",
      "Yes\n",
      "----------------------------------------\n",
      "No\n",
      "----------------------------------------\n",
      "FTX\n",
      "----------------------------------------\n",
      "Sam Altman\n",
      "----------------------------------------\n",
      "Yes\n",
      "----------------------------------------\n",
      "No\n",
      "----------------------------------------\n",
      "Insufficient information.\n",
      "----------------------------------------\n",
      "Insufficient information.\n",
      "----------------------------------------\n"
     ]
    }
   ],
   "source": [
    "for pred in pred_list:\n",
    "    print(textwrap.fill(pred, width=100))\n",
    "    print(\"-\" * 40)"
   ]
  },
  {
   "cell_type": "code",
   "execution_count": 220,
   "id": "b6a01a98",
   "metadata": {},
   "outputs": [
    {
     "data": {
      "text/plain": [
       "(0.78, 0.78, 0.78, 0.6944444444444444)"
      ]
     },
     "execution_count": 220,
     "metadata": {},
     "output_type": "execute_result"
    }
   ],
   "source": [
    "calculate_metrics(pred_list, gold_list)"
   ]
  },
  {
   "cell_type": "markdown",
   "id": "d602d87e",
   "metadata": {},
   "source": [
    "### Calculate Precision & Recall Retrieval"
   ]
  },
  {
   "cell_type": "code",
   "execution_count": 227,
   "id": "e2b86776",
   "metadata": {},
   "outputs": [
    {
     "name": "stdout",
     "output_type": "stream",
     "text": [
      "                                               query              answer  \\\n",
      "0  Who is the individual associated with the cryp...   Sam Bankman-Fried   \n",
      "1  Which individual is implicated in both inflati...        Donald Trump   \n",
      "2  Who is the figure associated with generative A...          Sam Altman   \n",
      "3  Do the TechCrunch article on software companie...                 Yes   \n",
      "4  Which online betting platform provides a welco...  Caesars Sportsbook   \n",
      "\n",
      "      question_type                                      evidence_list  \n",
      "0   inference_query  [{'title': 'The FTX trial is bigger than Sam B...  \n",
      "1   inference_query  [{'title': 'Donald Trump defrauded banks with ...  \n",
      "2   inference_query  [{'title': 'OpenAI's ex-chairman accuses board...  \n",
      "3  comparison_query  [{'title': 'Here’s how Rainforest, a budding S...  \n",
      "4   inference_query  [{'title': '2023 Kentucky online sports bettin...  \n"
     ]
    }
   ],
   "source": [
    "import json\n",
    "import pandas as pd\n",
    "\n",
    "# Load MultiHopRAG.json\n",
    "with open(\"VDT2025_Multihop_RAG/MultiHopRAG.json\", \"r\") as f:\n",
    "    multihoprag_data = json.load(f)\n",
    "\n",
    "# Convert to DataFrame\n",
    "multihoprag_df = pd.DataFrame(multihoprag_data)\n",
    "\n",
    "# Show the first few rows\n",
    "print(multihoprag_df.head())"
   ]
  },
  {
   "cell_type": "code",
   "execution_count": 274,
   "id": "5075f9d5",
   "metadata": {},
   "outputs": [
    {
     "name": "stdout",
     "output_type": "stream",
     "text": [
      "                                               query  \\\n",
      "0  Who is the individual associated with the cryp...   \n",
      "1  Which individual is implicated in both inflati...   \n",
      "2  Who is the figure associated with generative A...   \n",
      "3  Do the TechCrunch article on software companie...   \n",
      "4  Which online betting platform provides a welco...   \n",
      "\n",
      "                                              answer  \\\n",
      "0  The individual associated with the cryptocurre...   \n",
      "1  The individual implicated in both inflating th...   \n",
      "2  The figure associated with generative AI techn...   \n",
      "3  The TechCrunch article on software companies d...   \n",
      "4  The online betting platform that provides a we...   \n",
      "\n",
      "                                       evidence_list  \n",
      "0  [{'title': 'The FTX trial is bigger than Sam B...  \n",
      "1  [{'title': 'The $777 million surprise: Donald ...  \n",
      "2  [{'title': 'Amazon’s Tye Brady discusses gener...  \n",
      "3  [{'title': 'Adobe: Thanksgiving US online sale...  \n",
      "4  [{'title': 'Vermont Sportsbook Promos and Spor...  \n"
     ]
    }
   ],
   "source": [
    "import json\n",
    "import pandas as pd\n",
    "\n",
    "# Load MultiHopRAG.json\n",
    "with open(\"4_decomposition.json\", \"r\") as f:\n",
    "    load_responses = json.load(f)\n",
    "\n",
    "# Convert to DataFrame\n",
    "load_responses_df = pd.DataFrame(load_responses)\n",
    "\n",
    "# Show the first few rows\n",
    "print(load_responses_df.head())"
   ]
  },
  {
   "cell_type": "code",
   "execution_count": 275,
   "id": "eec81bc4",
   "metadata": {},
   "outputs": [],
   "source": [
    "pred_evidences = load_responses_df[\"evidence_list\"].tolist()\n",
    "gold_evidences = []\n",
    "for item in multihoprag_df[\"evidence_list\"][:50].tolist():\n",
    "    gold_evidence = []\n",
    "    for d in item:\n",
    "        gold_evidence.append({\"title\": d[\"title\"], \"fact\": d[\"fact\"]})\n",
    "    gold_evidences.append(gold_evidence)"
   ]
  },
  {
   "cell_type": "code",
   "execution_count": 276,
   "id": "d22ca64d",
   "metadata": {},
   "outputs": [
    {
     "data": {
      "text/plain": [
       "[{'title': 'The FTX trial is bigger than Sam Bankman-Fried',\n",
       "  'fact': 'Bankman-Fried gave interviews freely — and quickly rose to public prominence in the industry. Though FTX hadn’t been in the business as long as competing exchanges such as Coinbase, Kraken, or Gemini, Bankman-Fried positioned himself as an important, boyish face for crypto. (At one point, Bankman-Fried told a colleague at FTX that “I honestly think it’s negative EV [this may mean “expected value,” as in poker] for me to cut my hair. I think it’s important for people to think I look crazy.”)\\n\\nBecause he was so successful at this kind of public relations, his fall from grace was another mark against an industry that was already roiled by bankruptcies and scandals. Some additional trouble for the crypto industry is likely to come from one crucial element of the fraud trial — the part where the government must prove intent.\\n\\nThe first part of proving the government’s case is pretty simple and a little boring: prosecutors must show that certain transactions took place. Whatever records the Southern District of New York has for the transactions will be shown.\\n\\n“What conversations happened between him and his co-conspirators that are now cooperating against him?”'},\n",
       " {'title': 'The FTX trial is bigger than Sam Bankman-Fried',\n",
       "  'fact': 'The trial of Sam Bankman-Fried is likely to be more consequential than just whether the man himself is found guilty. Depending on what evidence is introduced during the trial, it could be rough for the entire crypto industry.\\n\\n“How much damage can this trial do to the already beaten-down reputation of the industry at this point?” asks Yesha Yadav, a law professor at Vanderbilt University. “This trial is going to be an excruciating moment for the industry because no one knows what kind of evidence might come out.”\\n\\nBankman-Fried, the founder of FTX and Alameda Research, is facing seven counts of criminal charges: two counts of wire fraud, and five counts of conspiracy charges. FTX was a failed cryptocurrency exchange founded in 2019. According to a now-deleted profile from FTX investors Sequoia Capital, FTX was founded because of Bankman-Fried’s frustration with other exchanges when he was running Alameda Research, his crypto trading firm. According to the SEC, FTX was a fraud “from the start,” diverting customers’ funds to Alameda.'},\n",
       " {'title': 'The FTX trial is bigger than Sam Bankman-Fried',\n",
       "  'fact': '“What conversations happened between him and his co-conspirators that are now cooperating against him?”\\n\\nThe second part is where all the drama is likely to come, says Christopher LaVigne, a litigation partner and co-chair of the cryptocurrency practice at the law firm Withers. Prosecutors have to connect those transactions to Bankman-Fried, show that he knew what he was doing was wrong, and prove that he lied about it anyway.\\n\\n“What was he saying to his parents and his other advisors about this?” LaVigne says. “What conversations happened between him and his co-conspirators that are now cooperating against him?”\\n\\nTo further establish intent, the government can use Bankman-Fried’s own words. The indictment calls Bankman-Fried’s tweets in November 2022 “false and misleading.”\\n\\n“We had him going out directly to the internet,” LaVigne says. If he wrote things on Twitter or said things in interviews that weren’t true, that’s more fodder for the government’s case. “They can point to that and say, ‘This is what he said, this is what actually happened.’”'},\n",
       " {'title': 'SBF, riding high on FTX, reportedly offered $5B to Trump to cancel President re-run',\n",
       "  'fact': 'Come Tuesday, our eyes will be trained on the Manhattan Federal Court for the trial of Sam Bankman-Fried, the disgraced cryptocurrency entrepreneur accused of orchestrating “one of the biggest financial frauds in American history”: the multibillion-dollar collapse of FTX, the crypto exchange he founded and led.\\n\\nSBF, as he’s known, has pleaded not-guilty to some seven charges of fraud and conspiracy. But, as we wait to hear both his version and the government’s version of what happened, there will be another tale recounting how things played out: “Going Infinite,” a book by Michael Lewis chronicling the rise and fall of SBF, is set to debut on the first day of the trial.\\n\\nThe episode has fired up a lot of people, indignant at what they feel was too-easy treatment for someone who many believe brought down the whole crypto house.\\n\\n60 Minutes got rightly community noted here. How is it that SBF is _still_ getting super positive media coverage when the media has nothing good to say about the founders that have actually created things and brought value into the world? https://t.co/VPV1ORVHqf — tobi lutke (@tobi) October 2, 2023\\n\\nThe germination of “Going Infinite” sounds as unlikely as the story of SBF himself.'},\n",
       " {'title': 'SBF’s trial starts soon, but how did he — and FTX — get here?',\n",
       "  'fact': 'The aftermath\\n\\nFTX co-founder and former CTO Gary Wang, and Alameda Research’s former CEO, Caroline Ellison, both pleaded guilty in December 2022 to federal criminal charges in relation to the FTX collapse. They’re also facing civil penalties from the U.S. Securities and Exchange Commission (SEC) and Commodity Futures Trading Commission (CFTC) alongside the criminal charges. Wang and Ellison plan to cooperate with prosecutors and will be major witnesses in the trial, given their close ties to Bankman-Fried, FTX and Alameda.\\n\\nIn January, Bankman-Fried pleaded not guilty to all counts, which include wire fraud, conspiracy to commit money laundering and conspiracy to misuse customer funds. He could face up to 115 years in jail if convicted on all charges.\\n\\nThe crypto industry as a whole suffered from FTX’s collapse, which was the first of many. BlockFi filed for Chapter 11 in November 2022, as did Genesis Global Trading in January.\\n\\nWhere we are today\\n\\nBankman-Fried will be represented by Cohen & Gresser, and Mark Cohen, a high-profile defense attorney and former federal prosecutor, will be the lead attorney. If that name sounds familiar, it might be because he also represented Ghislaine Maxwell in her sex trafficking trial related to Jeffrey Epstein. He requested an early release for Bankman-Fried but was denied.'},\n",
       " {'title': 'The FTX trial is bigger than Sam Bankman-Fried',\n",
       "  'fact': 'Bankman-Fried gave interviews freely — and quickly rose to public prominence in the industry. Though FTX hadn’t been in the business as long as competing exchanges such as Coinbase, Kraken, or Gemini, Bankman-Fried positioned himself as an important, boyish face for crypto. (At one point, Bankman-Fried told a colleague at FTX that “I honestly think it’s negative EV [this may mean “expected value,” as in poker] for me to cut my hair. I think it’s important for people to think I look crazy.”)\\n\\nBecause he was so successful at this kind of public relations, his fall from grace was another mark against an industry that was already roiled by bankruptcies and scandals. Some additional trouble for the crypto industry is likely to come from one crucial element of the fraud trial — the part where the government must prove intent.\\n\\nThe first part of proving the government’s case is pretty simple and a little boring: prosecutors must show that certain transactions took place. Whatever records the Southern District of New York has for the transactions will be shown.\\n\\n“What conversations happened between him and his co-conspirators that are now cooperating against him?”'},\n",
       " {'title': 'How is it still getting worse for Sam Bankman-Fried?',\n",
       "  'fact': 'I’ve been asked by some people why the reporting coming out of the trial seems so skewed toward the prosecution. There’s an answer for this: the prosecution has put together a strong, comprehensive indictment of Bankman-Fried’s behavior at FTX and Alameda. The defense, so far, has managed to do almost nothing in response. I don’t know if Cohen and Everdell have bad facts, a bad client, or are simply untalented themselves (or some combination of all three?). But I do know that I haven’t yet seen any good reason to doubt the very convincing story I’m hearing from the prosecution.'},\n",
       " {'title': 'In the end, the FTX trial was about the friends screwed along the way',\n",
       "  'fact': 'After that, Singh spilled the beans: Alameda had withdrawn assets that included the customer funds, Sun testified. He quit the next day. Like Yedidia, Sun testified with immunity.\\n\\nIn the courtroom, we were treated to a Good Morning America appearance by Bankman-Fried on December 1st, 2022. In it, Bankman-Fried tried to justify the missing funds through the margin loan program. It was such a flimsy excuse that even George Stephanopoulos could see through it.\\n\\nDid Bankman-Fried really think he could get away with it all? He must still think so, or he would not be dragging his closest companions’ names through the mud in a jury trial. Throughout the entire prosecution’s case, the defense has struggled to shake the credibility of witnesses such as Yedidia, Wang, and Ellison. The hits the defense made on Singh didn’t make me doubt the overall truth of his story — they just made me think that Singh was kind of self-serving and trying to secure himself a lenient sentence.'},\n",
       " {'title': \"Sex, Signal messages, and sabotaging FTX's code: SBF execs and Bahamas roommates tell all in court\",\n",
       "  'fact': '\"Sam Bankman-Fried,\" he said. The trial, set to last six weeks, will resume on Tuesday with key testimony expected from Ellison, who is considered the prosecution\\'s star witness, having already pleaded guilty to multiple charges. Bankman-Fried faces seven federal charges, including wire fraud, securities fraud and money laundering, that could put him in prison for the rest of his life. Thus far, Bankman-Fried, 31, has remained mostly quiet in court intently listening to witnesses and at times writing notes to his attorneys. But as Wang testified against him, Bankman-Fried looked visibly upset, shifting his gaze from his former friend to the ground, and at one point putting his head in his hands.'},\n",
       " {'title': 'The FTX trial is bigger than Sam Bankman-Fried',\n",
       "  'fact': '“What conversations happened between him and his co-conspirators that are now cooperating against him?”\\n\\nThe second part is where all the drama is likely to come, says Christopher LaVigne, a litigation partner and co-chair of the cryptocurrency practice at the law firm Withers. Prosecutors have to connect those transactions to Bankman-Fried, show that he knew what he was doing was wrong, and prove that he lied about it anyway.\\n\\n“What was he saying to his parents and his other advisors about this?” LaVigne says. “What conversations happened between him and his co-conspirators that are now cooperating against him?”\\n\\nTo further establish intent, the government can use Bankman-Fried’s own words. The indictment calls Bankman-Fried’s tweets in November 2022 “false and misleading.”\\n\\n“We had him going out directly to the internet,” LaVigne says. If he wrote things on Twitter or said things in interviews that weren’t true, that’s more fodder for the government’s case. “They can point to that and say, ‘This is what he said, this is what actually happened.’”'},\n",
       " {'title': 'The FTX trial is bigger than Sam Bankman-Fried',\n",
       "  'fact': 'Bankman-Fried gave interviews freely — and quickly rose to public prominence in the industry. Though FTX hadn’t been in the business as long as competing exchanges such as Coinbase, Kraken, or Gemini, Bankman-Fried positioned himself as an important, boyish face for crypto. (At one point, Bankman-Fried told a colleague at FTX that “I honestly think it’s negative EV [this may mean “expected value,” as in poker] for me to cut my hair. I think it’s important for people to think I look crazy.”)\\n\\nBecause he was so successful at this kind of public relations, his fall from grace was another mark against an industry that was already roiled by bankruptcies and scandals. Some additional trouble for the crypto industry is likely to come from one crucial element of the fraud trial — the part where the government must prove intent.\\n\\nThe first part of proving the government’s case is pretty simple and a little boring: prosecutors must show that certain transactions took place. Whatever records the Southern District of New York has for the transactions will be shown.\\n\\n“What conversations happened between him and his co-conspirators that are now cooperating against him?”'},\n",
       " {'title': 'SBF’s trial starts soon, but how did he — and FTX — get here?',\n",
       "  'fact': 'With the trial beginning, we’re witnessing how FTX’s story ends. But what’s on our mind is what happens to the investors and creditors affected by the collapse? And what happens to the billions in crypto assets tied up in legal proceedings?'},\n",
       " {'title': 'The FTX trial is bigger than Sam Bankman-Fried',\n",
       "  'fact': 'The trial of Sam Bankman-Fried is likely to be more consequential than just whether the man himself is found guilty. Depending on what evidence is introduced during the trial, it could be rough for the entire crypto industry.\\n\\n“How much damage can this trial do to the already beaten-down reputation of the industry at this point?” asks Yesha Yadav, a law professor at Vanderbilt University. “This trial is going to be an excruciating moment for the industry because no one knows what kind of evidence might come out.”\\n\\nBankman-Fried, the founder of FTX and Alameda Research, is facing seven counts of criminal charges: two counts of wire fraud, and five counts of conspiracy charges. FTX was a failed cryptocurrency exchange founded in 2019. According to a now-deleted profile from FTX investors Sequoia Capital, FTX was founded because of Bankman-Fried’s frustration with other exchanges when he was running Alameda Research, his crypto trading firm. According to the SEC, FTX was a fraud “from the start,” diverting customers’ funds to Alameda.'},\n",
       " {'title': 'Coinbase rallies more than 60% in same month that FTX and Binance founders brace for prison',\n",
       "  'fact': \"In a month that saw two of the crypto industry's leading figures headed on the path to prison, Coinbase shares rocketed more than 60%, their second-best monthly performance since the cryptocurrency exchange went public in 2021. Bolstered by rallies in bitcoin and ether as well as crises at key competitors, Coinbase has been one of Wall Street's best bets all year, climbing more than 250% in the first 11 months of 2023. For early holders of the stock, the rebound helps ease the pain of 2022, when Coinbase lost 86% of its value as soaring inflation and rising interest rates pushed investors out of crypto and high-growth tech companies, and into assets deemed safer in a recession. Tech stocks have roared back this year, particularly those tied to the artificial intelligence boom and crypto. Coinbase has the added benefit of having survived the so-called crypto winter, while so many of its rivals disappeared or downsized. The industry fallout came to a head this month, when Sam Bankman-Fried, founder of former Coinbase rival FTX, was found guilty of seven criminal fraud counts tied to the collapse of his exchange and the theft of customer funds. His conviction landed on Nov. 2 after a monthlong trial. Less than three weeks later, on Nov. 21, Binance founder Changpeng Zhao pleaded guilty to violations of the Bank Secrecy Act for failing to implement an effective anti-money laundering program and for willfully violating U.S. economic sanctions.\"},\n",
       " {'title': 'The FTX trial is bigger than Sam Bankman-Fried',\n",
       "  'fact': 'It’s possible other messages from group chats may be brought into evidence during the trial. That can potentially be embarrassing for the whole industry, Wong says.\\n\\n“You can imagine some of these founders, CEOs, people of that echelon talk to each other somewhat informally about what’s going on,” she says. If it seems like his peer group supported him, or worse, fawned over him, that’s a real problem for the industry’s reputation.”\\n\\nAfter FTX declared bankruptcy, Bankman-Fried went on an extensive media tour, doing interviews with The New York Times’ Andrew Ross Sorkin and Good Morning America. Even under house arrest, he did interviews, including with The New Yorker. Bankman-Fried seemed to think that if he just explained things, everyone would understand that what he did was a mistake, not a crime.'},\n",
       " {'title': 'The FTX trial is bigger than Sam Bankman-Fried',\n",
       "  'fact': 'Bankman-Fried gave interviews freely — and quickly rose to public prominence in the industry. Though FTX hadn’t been in the business as long as competing exchanges such as Coinbase, Kraken, or Gemini, Bankman-Fried positioned himself as an important, boyish face for crypto. (At one point, Bankman-Fried told a colleague at FTX that “I honestly think it’s negative EV [this may mean “expected value,” as in poker] for me to cut my hair. I think it’s important for people to think I look crazy.”)\\n\\nBecause he was so successful at this kind of public relations, his fall from grace was another mark against an industry that was already roiled by bankruptcies and scandals. Some additional trouble for the crypto industry is likely to come from one crucial element of the fraud trial — the part where the government must prove intent.\\n\\nThe first part of proving the government’s case is pretty simple and a little boring: prosecutors must show that certain transactions took place. Whatever records the Southern District of New York has for the transactions will be shown.\\n\\n“What conversations happened between him and his co-conspirators that are now cooperating against him?”'},\n",
       " {'title': 'The FTX trial is bigger than Sam Bankman-Fried',\n",
       "  'fact': 'If, for instance, Sequoia Capital did due diligence around its investment in FTX, whatever Bankman-Fried told its partners could be important. Was FTX already sending Alameda customer funds at that point? Did Bankman-Fried know about it? And did he tell VCs at the time? (If he told them it wasn’t happening, that would establish intent.) Binance was also an early investor in FTX, and former executives may be called on to testify as well, says Hermine Wong, the former head of policy at Coinbase and a former SEC regulator.\\n\\nBankman-Fried’s defense can also introduce risks for people who dealt with him. Defense lawyers have several simultaneous objectives. First and foremost, they’re trying to prove their client is not guilty. But just in case they don’t get the outcome they want, they’re also laying the groundwork for appeals and sentencing arguments. Any piece of evidence they want to introduce for those two purposes has to come into play in the trial.\\n\\nAlready, Bankman-Fried’s lawyers are marking arguments that his constitutional rights are being violated by his pretrial incarceration because, among other things, his internet connection wasn’t good enough for him to plan his defense, notes LaVigne. That could be grounds for an appeal.'},\n",
       " {'title': 'The FTX trial is bigger than Sam Bankman-Fried',\n",
       "  'fact': '“Is he going to throw the entire industry under the bus?”\\n\\nBankman-Fried’s behavior after the fall of FTX suggests he’s something of a wild card. He may suggest he was acting on the advice of his lawyers. But he may also introduce other evidence that could be troublesome — implying, for instance, that he was engaged in standard industry behavior or that everything that happened was Binance’s fault. That may be risky, but we already know that Bankman-Fried loves risk.\\n\\n“Is he going to throw the entire industry under the bus?” Wong asks. “An idea like, ‘Everyone was doing this, it’s not fair I’m the only one who was charged?’” That may not fly in a court of law, but it could absolutely damage public perception of crypto at large.\\n\\nFor instance, just before he was arrested, Bankman-Fried brought forward messages from a crypto group chat in testimony he planned to give before Congress. In that testimony, he primarily blames Binance and his lawyers at the firm Sullivan & Cromwell.\\n\\nIt’s possible other messages from group chats may be brought into evidence during the trial. That can potentially be embarrassing for the whole industry, Wong says.'},\n",
       " {'title': 'The FTX trial is bigger than Sam Bankman-Fried',\n",
       "  'fact': 'The trial of Sam Bankman-Fried is likely to be more consequential than just whether the man himself is found guilty. Depending on what evidence is introduced during the trial, it could be rough for the entire crypto industry.\\n\\n“How much damage can this trial do to the already beaten-down reputation of the industry at this point?” asks Yesha Yadav, a law professor at Vanderbilt University. “This trial is going to be an excruciating moment for the industry because no one knows what kind of evidence might come out.”\\n\\nBankman-Fried, the founder of FTX and Alameda Research, is facing seven counts of criminal charges: two counts of wire fraud, and five counts of conspiracy charges. FTX was a failed cryptocurrency exchange founded in 2019. According to a now-deleted profile from FTX investors Sequoia Capital, FTX was founded because of Bankman-Fried’s frustration with other exchanges when he was running Alameda Research, his crypto trading firm. According to the SEC, FTX was a fraud “from the start,” diverting customers’ funds to Alameda.'},\n",
       " {'title': 'Is Sam Bankman-Fried a bad ‘man’ or a good ‘boy’? Lawyers swap opening statements before first witnesses take the stand',\n",
       "  'fact': 'The first was a victim: Marc-Antoine Julliard, a Paris-born cocoa trader who lives in London. In 2021, Julliard, who had coiffed hair and spoke with a strong French accent, decided to invest in crypto and landed on FTX as his exchange of choice, where he traded cryptocurrencies like Bitcoin and Dogecoin.\\n\\nOn Nov. 8, in the crypto exchange’s final few days, he tried to pull out his cash and crypto. How much? Almost $100,000, he said. And was he ever able to? “Never,” he told prosecutors.\\n\\nShortly afterward, as the trial neared late afternoon, the government called Adam Yedidia to the stand. A fast-talking graduate of MIT, he and Bankman-Fried were close friends in college, he said. And after Bankman-Fried left Jane Street, the high-frequency trading firm where the former billionaire got his start in finance after MIT, he persuaded Yedidia to join him as a trader at Alameda and then as a developer at FTX.\\n\\nWhen Yedidia first took the stand, Danielle Sassoon, one of the lead prosecutors, said that the college friend of Bankman-Fried had legal immunity during his testimony. Why did he make such a deal with the government, she asked.'}]"
      ]
     },
     "execution_count": 276,
     "metadata": {},
     "output_type": "execute_result"
    }
   ],
   "source": [
    "pred_evidences[0]"
   ]
  },
  {
   "cell_type": "markdown",
   "id": "16a0bee1",
   "metadata": {},
   "source": [
    "**Testing**"
   ]
  },
  {
   "cell_type": "code",
   "execution_count": 277,
   "id": "b77f6d9d",
   "metadata": {},
   "outputs": [],
   "source": [
    "import re\n",
    "\n",
    "def normalize_text(text):\n",
    "    # Remove all symbols, keep only letters, numbers, and spaces\n",
    "    normalized = re.sub(r'[^a-zA-Z0-9\\s]', '', text)\n",
    "    normalized = normalized.lower()\n",
    "    normalized = re.sub(r'\\s+', ' ', normalized).strip()\n",
    "    return normalized\n",
    "\n",
    "def calculate_metrics(retrieval_docs, gold_docs):\n",
    "    # Normalize facts\n",
    "    retrieval_facts = [normalize_text(doc['title']) for doc in retrieval_docs]\n",
    "    gold_facts = [normalize_text(doc['title']) for doc in gold_docs]\n",
    "\n",
    "\n",
    "    # Calculate True Positives\n",
    "    TP = 0\n",
    "    for gold_fact in gold_facts:\n",
    "        for retrieval_fact in retrieval_facts:\n",
    "            if gold_fact in retrieval_fact:\n",
    "                TP += 1\n",
    "                break\n",
    "\n",
    "    # Calculate False Positives\n",
    "    FP = 0\n",
    "    for retrieval_fact in retrieval_facts:\n",
    "        if not any(gold_fact in retrieval_fact for gold_fact in gold_facts):\n",
    "            FP += 1\n",
    "\n",
    "    # Calculate False Negatives\n",
    "    FN = 0\n",
    "    for gold_fact in gold_facts:\n",
    "        if not any(gold_fact in retrieval_fact for retrieval_fact in retrieval_facts):\n",
    "            FN += 1\n",
    "\n",
    "    # Calculate Precision, Recall, F1\n",
    "    precision = TP / (TP + FP) if (TP + FP) > 0 else 0\n",
    "    recall = TP / (TP + FN) if (TP + FN) > 0 else 0\n",
    "    f1 = 2 * (precision * recall) / (precision + recall) if (precision + recall) > 0 else 0\n",
    "\n",
    "    return precision, recall, f1\n",
    "\n"
   ]
  },
  {
   "cell_type": "code",
   "execution_count": 278,
   "id": "a747063e",
   "metadata": {},
   "outputs": [
    {
     "name": "stdout",
     "output_type": "stream",
     "text": [
      "50\n",
      "50\n"
     ]
    }
   ],
   "source": [
    "print(len(pred_evidences))\n",
    "print(len(gold_evidences))"
   ]
  },
  {
   "cell_type": "code",
   "execution_count": 279,
   "id": "346e26c1",
   "metadata": {},
   "outputs": [
    {
     "name": "stdout",
     "output_type": "stream",
     "text": [
      "Mean Precision: 0.2141990120302813\n",
      "Mean Recall: 0.66\n",
      "Mean F1: 0.30100128554833094\n"
     ]
    }
   ],
   "source": [
    "total_precision = 0\n",
    "total_recall = 0\n",
    "total_f1 = 0\n",
    "for idx in range(50):\n",
    "    precision, recall, f1 = calculate_metrics(pred_evidences[idx], gold_evidences[idx])\n",
    "    total_precision += precision\n",
    "    total_recall += recall\n",
    "    total_f1 += f1\n",
    "\n",
    "print(\"Mean Precision:\", total_precision / 50)\n",
    "print(\"Mean Recall:\", total_recall / 50)\n",
    "print(\"Mean F1:\", total_f1 / 50)"
   ]
  }
 ],
 "metadata": {
  "kernelspec": {
   "display_name": "Neo4j",
   "language": "python",
   "name": "python3"
  },
  "language_info": {
   "codemirror_mode": {
    "name": "ipython",
    "version": 3
   },
   "file_extension": ".py",
   "mimetype": "text/x-python",
   "name": "python",
   "nbconvert_exporter": "python",
   "pygments_lexer": "ipython3",
   "version": "3.13.2"
  }
 },
 "nbformat": 4,
 "nbformat_minor": 5
}
